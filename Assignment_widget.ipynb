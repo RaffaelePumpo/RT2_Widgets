{
 "cells": [
  {
   "cell_type": "code",
   "execution_count": 8,
   "id": "4b91d492",
   "metadata": {},
   "outputs": [],
   "source": [
    "import jupyros as jr\n",
    "import rospy\n",
    "from nav_msgs.msg import Odometry\n",
    "from sensor_msgs.msg import LaserScan\n",
    "import actionlib\n",
    "import actionlib.msg\n",
    "import matplotlib.pyplot as plt\n",
    "import tf\n",
    "from tf.transformations import quaternion_matrix\n",
    "import numpy as np\n",
    "from matplotlib.animation import FuncAnimation\n",
    "\n",
    "from assignment_2_2022.msg import Info_rob \n",
    "import assignment_2_2022.msg\n",
    "import ipywidgets as widgets\n",
    "from ipywidgets import Button, HBox, VBox\n",
    "\n",
    "# Variables to count the number of goals reached and canceled\n",
    "canceled = 0\n",
    "reached = 0\n",
    "\n",
    "# Lists of all targets \n",
    "targets_x = []\n",
    "targets_y = []\n",
    "\n",
    "\n",
    "status_canc = 2\n",
    "status_reach = 3\n",
    "\n",
    "def callback(msg):\n",
    "\n",
    "\n",
    "    global canceled, reached\n",
    "\n",
    "    # Get the status \n",
    "    status = msg.status.status\n",
    "\n",
    "    # Goal canceled\n",
    "    if status == status_canc:\n",
    "        x.disabled = False\n",
    "        y.disabled = False\n",
    "        button_start.disabled = False\n",
    "        button_stop.disabled = True\n",
    "        canceled = canceled + 1\n",
    "\n",
    "    # Goal reached\n",
    "    elif status == status_reach:\n",
    "        x.disabled = False\n",
    "        y.disabled = False\n",
    "        button_start.disabled = False\n",
    "        button_stop.disabled = True\n",
    "        reached = reached + 1\n",
    "\n",
    "\n",
    "    \n",
    "class Visualiser:\n",
    "    def __init__(self):\n",
    "        self.fig, self.ax = plt.subplots() \n",
    "        self.ln, = plt.plot([], [], 'ro') \n",
    "        self.x_data, self.y_data = [] , []\n",
    "        \n",
    "    def plot_init(self): \n",
    "        self.ax.set_xlim(-10, 10)\n",
    "        self.ax.set_ylim(-10, 10)\n",
    "        self.ax.set_xlabel('X')\n",
    "        self.ax.set_ylabel('Y')\n",
    "        self.ax.set_title('Position ')\n",
    "        return self.ln\n",
    "\n",
    "    def odom_callback(self, msg):\n",
    "        #Get the position and velocity from the message\n",
    "        pos = msg.pose.pose.position\n",
    "        vel = msg.twist.twist.linear\n",
    "        self.y_data.append(pos.y) \n",
    "        self.x_data.append(pos.x)\n",
    "        global pub\n",
    "         # Create the custom message\n",
    "        info_rob = Info_rob()\n",
    "        info_rob.x = pos.x\n",
    "        info_rob.y = pos.y\n",
    "        info_rob.vel_x = vel.x\n",
    "        info_rob.vel_y = vel.y\n",
    "\n",
    "        # Publish it\n",
    "        pub.publish(info_rob)\n",
    "        \n",
    "    def update_plot(self, frame): \n",
    "        self.ln.set_data(self.x_data, self.y_data) \n",
    "        return self.ln\n",
    "    \n",
    "        \n",
    "# Initializes a rospy node \n",
    "rospy.init_node('client_node_a')\n",
    "\n",
    "# Publisher to publish the custom message\n",
    "pub = rospy.Publisher(\"/info_rob\", Info_rob, queue_size=10)\n",
    "\n",
    "\n",
    "\n",
    "\n"
   ]
  },
  {
   "cell_type": "code",
   "execution_count": 9,
   "id": "f007db2d",
   "metadata": {},
   "outputs": [
    {
     "name": "stdout",
     "output_type": "stream",
     "text": [
      "Insert the x and y position of the target or c to cancel\n"
     ]
    },
    {
     "data": {
      "application/vnd.jupyter.widget-view+json": {
       "model_id": "9e717014f06f4f65b338efc7482904a5",
       "version_major": 2,
       "version_minor": 0
      },
      "text/plain": [
       "HBox(children=(VBox(children=(FloatText(value=0.0, description='x:'), FloatText(value=0.0, description='y:')))…"
      ]
     },
     "metadata": {},
     "output_type": "display_data"
    }
   ],
   "source": [
    "button_start = Button(description = \"START!\", button_style = \"success\")\n",
    "button_stop = Button(description = \"STOP!\", disabled = True, button_style = \"danger\")\n",
    "\n",
    "def on_button_start_clicked(b):\n",
    "    global targets_x, targets_y\n",
    "    \n",
    "    goal.target_pose.pose.position.x = x.value\n",
    "    goal.target_pose.pose.position.y = y.value\n",
    "\n",
    "    #update target lists\n",
    "    targets_x.append(x.value)\n",
    "    targets_y.append(y.value)\n",
    "\n",
    "\n",
    "    #send the goal returned by set_goal()\n",
    "    client.send_goal(goal)\n",
    "\n",
    "    x.disabled = True\n",
    "    y.disabled = True\n",
    "    button_start.disabled = True\n",
    "    button_stop.disabled = False\n",
    "\n",
    "\n",
    "def on_button_stop_clicked(b):\n",
    "    client.cancel_goal()\n",
    "    x.disabled = False\n",
    "    y.disabled = False\n",
    "    button_start.disabled = False\n",
    "    button_stop.disabled = True\n",
    "    \n",
    "    \n",
    "\n",
    "# Create the action client\n",
    "client = actionlib.SimpleActionClient('/reaching_goal', assignment_2_2022.msg.PlanningAction)\n",
    "\n",
    "# Waits the server to be ready\n",
    "client.wait_for_server()\n",
    "goal = assignment_2_2022.msg.PlanningGoal()\n",
    "print(\"Insert the x and y position of the target or c to cancel\")\n",
    "    \n",
    "x = widgets.FloatText(description = \"x:\")\n",
    "y = widgets.FloatText(description = \"y:\")\n",
    "\n",
    "\n",
    "button_start.on_click(on_button_start_clicked)\n",
    "button_stop.on_click(on_button_stop_clicked)\n",
    "HBox([VBox([x,y]),VBox([button_start, button_stop])])"
   ]
  },
  {
   "cell_type": "code",
   "execution_count": 16,
   "id": "627ccce4",
   "metadata": {},
   "outputs": [
    {
     "data": {
      "application/vnd.jupyter.widget-view+json": {
       "model_id": "cf909570e2044c0583ad0837ed711a75",
       "version_major": 2,
       "version_minor": 0
      },
      "text/plain": [
       "Canvas(toolbar=Toolbar(toolitems=[('Home', 'Reset original view', 'home', 'home'), ('Back', 'Back to previous …"
      ]
     },
     "metadata": {},
     "output_type": "display_data"
    },
    {
     "name": "stderr",
     "output_type": "stream",
     "text": [
      "Removing previous callback, only one redirection possible right now\n"
     ]
    }
   ],
   "source": [
    "# Subscriber\n",
    "get_ipython().run_line_magic('matplotlib', 'widget')\n",
    "vis = Visualiser()\n",
    "jr.subscribe('/odom', Odometry, vis.odom_callback)\n",
    "ani = FuncAnimation(vis.fig, vis.update_plot, init_func=vis.plot_init)\n",
    "plt.figure(1)\n",
    "plt.show(block=False)\n"
   ]
  },
  {
   "cell_type": "code",
   "execution_count": 15,
   "id": "acc9cc62",
   "metadata": {},
   "outputs": [
    {
     "name": "stderr",
     "output_type": "stream",
     "text": [
      "Removing previous callback, only one redirection possible right now\n"
     ]
    },
    {
     "data": {
      "application/vnd.jupyter.widget-view+json": {
       "model_id": "55b4713e9024436e819dd5c272e6f6fc",
       "version_major": 2,
       "version_minor": 0
      },
      "text/plain": [
       "Button(button_style='success', description='Update graph!', style=ButtonStyle())"
      ]
     },
     "metadata": {},
     "output_type": "display_data"
    },
    {
     "data": {
      "application/vnd.jupyter.widget-view+json": {
       "model_id": "f5f48e7c7dae4aa294ec526a43443160",
       "version_major": 2,
       "version_minor": 0
      },
      "text/plain": [
       "Canvas(toolbar=Toolbar(toolitems=[('Home', 'Reset original view', 'home', 'home'), ('Back', 'Back to previous …"
      ]
     },
     "metadata": {},
     "output_type": "display_data"
    }
   ],
   "source": [
    "jr.subscribe('/reaching_goal/result', assignment_2_2022.msg.PlanningActionResult, callback)\n",
    "\n",
    "get_ipython().run_line_magic('matplotlib', 'widget')\n",
    "\n",
    "button_update = widgets.Button(description = \"Update graph!\", button_style = \"success\")\n",
    "\n",
    " \n",
    "def on_button_update_clicked(b):\n",
    "    plt.figure(2)\n",
    "    values = [canceled,reached]\n",
    "    labels = ['Canceled', 'Reached']\n",
    "    colors = ['red', 'green']\n",
    "\n",
    "    plt.bar(labels, values, color = colors)\n",
    "    \n",
    "    plt.ylabel('Numbers')\n",
    "    plt.title('Targets')\n",
    "    \n",
    "    plt.yticks(range(int(min(values)), int(max(values))+1))\n",
    "    plt.show()\n",
    "\n",
    " \n",
    "button_update.on_click(on_button_update_clicked)\n",
    "display(button_update)"
   ]
  },
  {
   "cell_type": "code",
   "execution_count": 12,
   "id": "7a4730c3",
   "metadata": {},
   "outputs": [
    {
     "data": {
      "application/vnd.jupyter.widget-view+json": {
       "model_id": "a45de732605a473fba3ca543bc421e54",
       "version_major": 2,
       "version_minor": 0
      },
      "text/plain": [
       "Button(button_style='success', description='Update graph!', style=ButtonStyle())"
      ]
     },
     "metadata": {},
     "output_type": "display_data"
    },
    {
     "data": {
      "application/vnd.jupyter.widget-view+json": {
       "model_id": "fb580d5dd2a64666b30e41a3e9fbdf98",
       "version_major": 2,
       "version_minor": 0
      },
      "text/plain": [
       "Canvas(toolbar=Toolbar(toolitems=[('Home', 'Reset original view', 'home', 'home'), ('Back', 'Back to previous …"
      ]
     },
     "metadata": {},
     "output_type": "display_data"
    },
    {
     "data": {
      "application/vnd.jupyter.widget-view+json": {
       "model_id": "f9d68214dc71489b894cdaa9918d10d4",
       "version_major": 2,
       "version_minor": 0
      },
      "text/plain": [
       "Canvas(toolbar=Toolbar(toolitems=[('Home', 'Reset original view', 'home', 'home'), ('Back', 'Back to previous …"
      ]
     },
     "metadata": {},
     "output_type": "display_data"
    }
   ],
   "source": [
    "get_ipython().run_line_magic('matplotlib', 'widget')\n",
    "\n",
    "button_targets = Button(description = \"Update graph!\", button_style = \"success\")\n",
    "\n",
    "def on_button_update_targets(b):\n",
    "    plt.figure(3)\n",
    "    \n",
    "    global targets_x ,targets_y \n",
    "\n",
    "    plt.scatter(targets_x, targets_y)\n",
    "    plt.xlabel('x')\n",
    "    plt.ylabel('y')\n",
    "    plt.title('All Targets set!')\n",
    "    plt.show()\n",
    "\n",
    "  \n",
    "button_targets.on_click(on_button_update_targets)\n",
    "display(button_targets)"
   ]
  },
  {
   "cell_type": "code",
   "execution_count": 33,
   "id": "fcc9f4fd",
   "metadata": {},
   "outputs": [
    {
     "name": "stderr",
     "output_type": "stream",
     "text": [
      "Removing previous callback, only one redirection possible right now\n"
     ]
    },
    {
     "data": {
      "application/vnd.jupyter.widget-view+json": {
       "model_id": "fb23b1b8adc04f92973e4b9be570fc50",
       "version_major": 2,
       "version_minor": 0
      },
      "text/plain": [
       "VBox(children=(Label(value='Closest Obstacle', layout=Layout(width='200px')), HBox(children=(Label(value='Dist…"
      ]
     },
     "metadata": {},
     "output_type": "display_data"
    }
   ],
   "source": [
    "d_label = widgets.Label(value=\"Distance:\", layout=widgets.Layout(width='150px'))\n",
    "ang_label = widgets.Label(value=\"Angle:\", layout=widgets.Layout(width='150px'))\n",
    "\n",
    "dist = widgets.HTML(layout=widgets.Layout(width='100px'))\n",
    "ang = widgets.HTML(layout=widgets.Layout(width='100px'))\n",
    "\n",
    "d_threshold = 1\n",
    "angle_threshold = 0.5\n",
    "\n",
    "def laserCallback(scan):\n",
    "    d_range = 100\n",
    "    a_range = 100\n",
    "    for at, x in enumerate(scan.ranges):\n",
    "        if x < d_range and x > scan.range_min:\n",
    "            d_range = x\n",
    "            a_range = scan.angle_min + scan.angle_increment * at\n",
    "            \n",
    "    dist.value = f\"<span style='color: {'red' if d_range < d_threshold else 'green'};'>{d_range}</span>\"\n",
    "    ang.value = f\"<span style='color: {'red' if abs(a_range) < angle_threshold else 'green'};'>{a_range}</span>\"\n",
    "\n",
    "\n",
    "\n",
    "jr.subscribe('/scan', LaserScan, laserCallback)\n",
    "\n",
    "\n",
    "title_label = widgets.Label(value=\"Closest Obstacle\", layout=widgets.Layout(width='200px'))\n",
    "display(widgets.VBox([title_label, widgets.HBox([d_label, dist]), widgets.HBox([ang_label, ang])]))\n"
   ]
  },
  {
   "cell_type": "code",
   "execution_count": null,
   "id": "ebe932e0",
   "metadata": {},
   "outputs": [],
   "source": []
  }
 ],
 "metadata": {
  "kernelspec": {
   "display_name": "Python 3 (ipykernel)",
   "language": "python",
   "name": "python3"
  },
  "language_info": {
   "codemirror_mode": {
    "name": "ipython",
    "version": 3
   },
   "file_extension": ".py",
   "mimetype": "text/x-python",
   "name": "python",
   "nbconvert_exporter": "python",
   "pygments_lexer": "ipython3",
   "version": "3.8.5"
  }
 },
 "nbformat": 4,
 "nbformat_minor": 5
}
